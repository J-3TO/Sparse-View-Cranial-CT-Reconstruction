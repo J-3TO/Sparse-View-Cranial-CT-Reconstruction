{
 "cells": [
  {
   "cell_type": "code",
   "execution_count": 1,
   "metadata": {},
   "outputs": [],
   "source": [
    "import os\n",
    "os.environ[\"CUDA_DEVICE_ORDER\"]=\"PCI_BUS_ID\"\n",
    "os.environ[\"CUDA_VISIBLE_DEVICES\"] = \"2\"\n",
    "import sys\n",
    "from models import *\n",
    "from utils import *\n",
    "import numpy as np\n",
    "import tensorflow as tf\n",
    "from tensorflow import keras\n",
    "from tensorflow.keras import layers\n",
    "from tensorflow.keras.layers import Conv2D, MaxPooling2D, Concatenate, Add, Conv2DTranspose, Input, Lambda, Reshape, LeakyReLU, Flatten, ReLU, Multiply, Subtract, Conv3D\n",
    "from tensorflow.keras.models import *\n",
    "import glob\n",
    "import random\n",
    "#import matplotlib.pyplot as plt\n",
    "from tensorflow.python.keras import backend as K\n",
    "from tensorflow.python.framework import ops\n",
    "import time\n",
    "import pandas as pd"
   ]
  },
  {
   "cell_type": "code",
   "execution_count": null,
   "metadata": {},
   "outputs": [],
   "source": [
    "#train U-Net for each subsampled dataset\n",
    "for angle in [64, 128, 256, 512, 1024, 2048]:\n",
    "\n",
    "    save_path = os.path.abspath(\"./model_weights/\") + f\"{angle}\"\n",
    "    \n",
    "    #Instantiate optimzers:\n",
    "    lr=1e-4\n",
    "    beta_1 = 0.9\n",
    "    beta_2 = 0.999\n",
    "\n",
    "    generator_optimizer = keras.optimizers.Adam(learning_rate=lr, beta_1=beta_1, beta_2=beta_2)\n",
    "\n",
    "    # load model\n",
    "\n",
    "    model = U_Net()\n",
    "    #gen.summary()\n",
    "    model.compile(optimizer=generator_optimizer, loss=loss_UNet)\n",
    "    data_gen = load_batch(train_list, base_dir, batchsize=batchsize, angle=angle, shape=(256, 256))\n",
    "\n",
    "    callbacks = [tf.keras.callbacks.ModelCheckpoint(filepath=save_path + '/model_{epoch:02d}.h5', verbose=1, period=10, save_weights_only=True), \n",
    "                tf.keras.callbacks.CSVLogger(save_path + '/log.csv', append=True, separator=','), \n",
    "                tf.keras.callbacks.LearningRateScheduler(step_decay, verbose=1), \n",
    "                tf.keras.callbacks.TensorBoard(save_path + 'log/{}'.format(time.time()))]\n",
    "\n",
    "    model.fit(data_gen, epochs=75, steps_per_epoch=len(train_list)//batchsize, callbacks=callbacks)"
   ]
  },
  {
   "cell_type": "code",
   "execution_count": null,
   "metadata": {},
   "outputs": [],
   "source": []
  }
 ],
 "metadata": {
  "kernelspec": {
   "display_name": "Python 3",
   "language": "python",
   "name": "python3"
  },
  "language_info": {
   "codemirror_mode": {
    "name": "ipython",
    "version": 3
   },
   "file_extension": ".py",
   "mimetype": "text/x-python",
   "name": "python",
   "nbconvert_exporter": "python",
   "pygments_lexer": "ipython3",
   "version": "3.8.10"
  }
 },
 "nbformat": 4,
 "nbformat_minor": 4
}
