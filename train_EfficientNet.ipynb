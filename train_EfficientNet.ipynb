{
 "cells": [
  {
   "cell_type": "code",
   "execution_count": null,
   "metadata": {},
   "outputs": [],
   "source": [
    "import os\n",
    "os.environ[\"CUDA_DEVICE_ORDER\"]=\"PCI_BUS_ID\"\n",
    "os.environ[\"CUDA_VISIBLE_DEVICES\"] = \"2\"\n",
    "import sys\n",
    "import numpy as np\n",
    "import tensorflow as tf\n",
    "import glob\n",
    "import random\n",
    "import matplotlib.pyplot as plt\n",
    "import time\n",
    "import pandas as pd\n",
    "import csv\n",
    "from models import *\n",
    "from utils import *"
   ]
  },
  {
   "cell_type": "code",
   "execution_count": null,
   "metadata": {},
   "outputs": [],
   "source": [
    "#specify training parameters\n",
    "nr_folds=5\n",
    "for k in range(0, nr_folds):\n",
    "    \n",
    "    #path where trainingdata is located\n",
    "    path = os.path.abspath(\"./Data/dataset_neighbouring/\")\n",
    "    initial_lr=5e-4\n",
    "    beta_1 = 0.9\n",
    "    beta_2 = 0.999\n",
    "    batchsize = 32\n",
    "    \n",
    "    #initialize data_generators\n",
    "    df_train = pd.read_csv(os.path.abspath(\"./model_weights/EfficientNet/\") + f'/split_{k}/train.csv')[:1000]\n",
    "    df_val = pd.read_csv(os.path.abspath(\"./model_weights/EfficientNet/\") + f'/split_{k}/val.csv')[:1000]\n",
    "\n",
    "    print('Fold: ', k)\n",
    "    \n",
    "\n",
    "    gen_train = DataGen(df=df_train, path=path, batch_size=batchsize, augmentation=True, train=True)\n",
    "    gen_val = DataGen(df=df_val, path=path, batch_size=batchsize, augmentation=False, train=True)\n",
    "    \n",
    "    steps = gen_train.__len__()\n",
    "    epochs = 15\n",
    "    save_path = os.path.abspath(\"./model_weights/EfficientNet/\") + f'/split_{k}/'\n",
    "    callbacks = [tf.keras.callbacks.ModelCheckpoint(filepath=save_path + 'model_{epoch:02d}.h5', verbose=1, period=1, save_weights_only=True),\n",
    "                 tf.keras.callbacks.CSVLogger(save_path + '/log.csv', append=True, separator=',')]\n",
    "\n",
    "    scheduler = tf.keras.experimental.CosineDecayRestarts(\n",
    "        initial_learning_rate=initial_lr, first_decay_steps=steps, t_mul=2, alpha=0.02)\n",
    "\n",
    "    model_optimizer = keras.optimizers.Adam(learning_rate=scheduler, beta_1=beta_1, beta_2=beta_2)\n",
    "\n",
    "    loss_function = tf.losses.BinaryCrossentropy(from_logits=False)\n",
    "\n",
    "    model = effnet()\n",
    "\n",
    "    model.compile(optimizer=model_optimizer, loss=loss_function, metrics=['accuracy', 'binary_crossentropy'])\n",
    "\n",
    "    model.fit(gen_train, epochs=epochs, validation_data=gen_val, callbacks=callbacks)"
   ]
  },
  {
   "cell_type": "code",
   "execution_count": null,
   "metadata": {},
   "outputs": [],
   "source": []
  }
 ],
 "metadata": {
  "kernelspec": {
   "display_name": "Python 3 (ipykernel)",
   "language": "python",
   "name": "python3"
  },
  "language_info": {
   "codemirror_mode": {
    "name": "ipython",
    "version": 3
   },
   "file_extension": ".py",
   "mimetype": "text/x-python",
   "name": "python",
   "nbconvert_exporter": "python",
   "pygments_lexer": "ipython3",
   "version": "3.8.10"
  }
 },
 "nbformat": 4,
 "nbformat_minor": 4
}
